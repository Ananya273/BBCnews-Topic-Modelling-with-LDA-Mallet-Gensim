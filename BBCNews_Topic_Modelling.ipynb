{
  "nbformat": 4,
  "nbformat_minor": 0,
  "metadata": {
    "colab": {
      "name": "BBCNews-Topic Modelling.ipynb",
      "provenance": [],
      "collapsed_sections": []
    },
    "kernelspec": {
      "name": "python3",
      "display_name": "Python 3"
    },
    "language_info": {
      "name": "python"
    }
  },
  "cells": [
    {
      "cell_type": "code",
      "metadata": {
        "colab": {
          "base_uri": "https://localhost:8080/"
        },
        "id": "h15qwvKYEUXt",
        "outputId": "a2a8566e-61c7-44f9-d422-11d8e4079301"
      },
      "source": [
        "#Install plLDAvis to visualize topic modelling\n",
        "!pip install pyLDAvis"
      ],
      "execution_count": 96,
      "outputs": [
        {
          "output_type": "stream",
          "text": [
            "Requirement already satisfied: pyLDAvis in /usr/local/lib/python3.7/dist-packages (3.3.1)\n",
            "Requirement already satisfied: pandas>=1.2.0 in /usr/local/lib/python3.7/dist-packages (from pyLDAvis) (1.2.4)\n",
            "Requirement already satisfied: gensim in /usr/local/lib/python3.7/dist-packages (from pyLDAvis) (3.6.0)\n",
            "Requirement already satisfied: scipy in /usr/local/lib/python3.7/dist-packages (from pyLDAvis) (1.4.1)\n",
            "Requirement already satisfied: sklearn in /usr/local/lib/python3.7/dist-packages (from pyLDAvis) (0.0)\n",
            "Requirement already satisfied: setuptools in /usr/local/lib/python3.7/dist-packages (from pyLDAvis) (56.0.0)\n",
            "Requirement already satisfied: scikit-learn in /usr/local/lib/python3.7/dist-packages (from pyLDAvis) (0.22.2.post1)\n",
            "Requirement already satisfied: joblib in /usr/local/lib/python3.7/dist-packages (from pyLDAvis) (1.0.1)\n",
            "Requirement already satisfied: jinja2 in /usr/local/lib/python3.7/dist-packages (from pyLDAvis) (2.11.3)\n",
            "Requirement already satisfied: numpy>=1.20.0 in /usr/local/lib/python3.7/dist-packages (from pyLDAvis) (1.20.2)\n",
            "Requirement already satisfied: numexpr in /usr/local/lib/python3.7/dist-packages (from pyLDAvis) (2.7.3)\n",
            "Requirement already satisfied: future in /usr/local/lib/python3.7/dist-packages (from pyLDAvis) (0.16.0)\n",
            "Requirement already satisfied: funcy in /usr/local/lib/python3.7/dist-packages (from pyLDAvis) (1.15)\n",
            "Requirement already satisfied: python-dateutil>=2.7.3 in /usr/local/lib/python3.7/dist-packages (from pandas>=1.2.0->pyLDAvis) (2.8.1)\n",
            "Requirement already satisfied: pytz>=2017.3 in /usr/local/lib/python3.7/dist-packages (from pandas>=1.2.0->pyLDAvis) (2018.9)\n",
            "Requirement already satisfied: six>=1.5.0 in /usr/local/lib/python3.7/dist-packages (from gensim->pyLDAvis) (1.15.0)\n",
            "Requirement already satisfied: smart-open>=1.2.1 in /usr/local/lib/python3.7/dist-packages (from gensim->pyLDAvis) (5.0.0)\n",
            "Requirement already satisfied: MarkupSafe>=0.23 in /usr/local/lib/python3.7/dist-packages (from jinja2->pyLDAvis) (1.1.1)\n"
          ],
          "name": "stdout"
        }
      ]
    },
    {
      "cell_type": "code",
      "metadata": {
        "colab": {
          "base_uri": "https://localhost:8080/"
        },
        "id": "WEV1HzvpGq9V",
        "outputId": "ea53bb95-adf8-4540-ce9c-ce90998a9b30"
      },
      "source": [
        "!pip install --upgrade pandas"
      ],
      "execution_count": 97,
      "outputs": [
        {
          "output_type": "stream",
          "text": [
            "Requirement already up-to-date: pandas in /usr/local/lib/python3.7/dist-packages (1.2.4)\n",
            "Requirement already satisfied, skipping upgrade: python-dateutil>=2.7.3 in /usr/local/lib/python3.7/dist-packages (from pandas) (2.8.1)\n",
            "Requirement already satisfied, skipping upgrade: pytz>=2017.3 in /usr/local/lib/python3.7/dist-packages (from pandas) (2018.9)\n",
            "Requirement already satisfied, skipping upgrade: numpy>=1.16.5 in /usr/local/lib/python3.7/dist-packages (from pandas) (1.20.2)\n",
            "Requirement already satisfied, skipping upgrade: six>=1.5 in /usr/local/lib/python3.7/dist-packages (from python-dateutil>=2.7.3->pandas) (1.15.0)\n"
          ],
          "name": "stdout"
        }
      ]
    },
    {
      "cell_type": "code",
      "metadata": {
        "id": "BXg1mnHAJPxg"
      },
      "source": [
        "import re\n",
        "import numpy as np\n",
        "import pandas as pd\n",
        "from pprint import pprint\n",
        "\n",
        "# Gensim packages\n",
        "import gensim\n",
        "import gensim.corpora as corpora\n",
        "from gensim.utils import simple_preprocess\n",
        "from gensim.models import CoherenceModel\n",
        "\n",
        "# spacy for lemmatization\n",
        "import spacy\n",
        "\n",
        "# Plotting tools for LDA\n",
        "import pyLDAvis\n",
        "import pyLDAvis.gensim_models  # don't skip this\n",
        "import matplotlib.pyplot as plt\n",
        "%matplotlib inline\n",
        "\n",
        "import warnings\n",
        "warnings.filterwarnings(\"ignore\",category=DeprecationWarning)"
      ],
      "execution_count": 98,
      "outputs": []
    },
    {
      "cell_type": "code",
      "metadata": {
        "colab": {
          "base_uri": "https://localhost:8080/"
        },
        "id": "e39FseT7Kg17",
        "outputId": "3304d76f-9467-46df-83f1-d357da25c2f3"
      },
      "source": [
        "#NLTK for NLP\n",
        "import nltk\n",
        "from nltk.corpus import stopwords\n",
        "nltk.download('stopwords')\n",
        "stop_words = stopwords.words('english')\n",
        "stop_words.extend(['from', 'subject', 're', 'edu', 'use'])"
      ],
      "execution_count": 99,
      "outputs": [
        {
          "output_type": "stream",
          "text": [
            "[nltk_data] Downloading package stopwords to /root/nltk_data...\n",
            "[nltk_data]   Package stopwords is already up-to-date!\n"
          ],
          "name": "stdout"
        }
      ]
    },
    {
      "cell_type": "code",
      "metadata": {
        "id": "frZZ2ZDKLRqV"
      },
      "source": [
        "#Read csv file into dataframe\n",
        "df= pd.read_csv('/content/a.csv')"
      ],
      "execution_count": 100,
      "outputs": []
    },
    {
      "cell_type": "code",
      "metadata": {
        "colab": {
          "base_uri": "https://localhost:8080/"
        },
        "id": "xcf7o640Lc4M",
        "outputId": "45191513-df1a-4cd7-e84e-5498ce49224b"
      },
      "source": [
        "print(df.head())"
      ],
      "execution_count": 101,
      "outputs": [
        {
          "output_type": "stream",
          "text": [
            "                                                news      type\n",
            "0  b'US consumer confidence up\\n\\nConsumers\\' con...  business\n",
            "1  b'The \\'ticking budget\\' facing the US\\n\\nThe ...  business\n",
            "2  b\"Mitsubishi in Peugeot link talks\\n\\nTrouble-...  business\n",
            "3  b'BMW reveals new models pipeline\\n\\nBMW is pr...  business\n",
            "4  b'World leaders gather to face uncertainty\\n\\n...  business\n"
          ],
          "name": "stdout"
        }
      ]
    },
    {
      "cell_type": "code",
      "metadata": {
        "colab": {
          "base_uri": "https://localhost:8080/"
        },
        "id": "AgAtioanGbdE",
        "outputId": "f7da2eaf-4e8e-462c-a8f9-877882a8d890"
      },
      "source": [
        "# Count of each category of articles\n",
        "df.type.astype('category').value_counts()"
      ],
      "execution_count": 102,
      "outputs": [
        {
          "output_type": "execute_result",
          "data": {
            "text/plain": [
              "sport            511\n",
              "business         510\n",
              "politics         417\n",
              "tech             401\n",
              "entertainment    386\n",
              "Name: type, dtype: int64"
            ]
          },
          "metadata": {
            "tags": []
          },
          "execution_count": 102
        }
      ]
    },
    {
      "cell_type": "code",
      "metadata": {
        "id": "1CiXQcxfIOZ6"
      },
      "source": [
        "#Convert into list\n",
        "data= df.news.values.tolist()"
      ],
      "execution_count": 103,
      "outputs": []
    },
    {
      "cell_type": "code",
      "metadata": {
        "colab": {
          "base_uri": "https://localhost:8080/"
        },
        "id": "n4CY2ln8XOU9",
        "outputId": "2c00a605-0022-4976-813f-65380c627f4f"
      },
      "source": [
        "data[:1]"
      ],
      "execution_count": 104,
      "outputs": [
        {
          "output_type": "execute_result",
          "data": {
            "text/plain": [
              "['b\\'US consumer confidence up\\\\n\\\\nConsumers\\\\\\' confidence in the state of the US economy is at its highest for five months and they are optimistic about 2005, an influential survey says.\\\\n\\\\nThe feel-good factor among US consumers rose in December for the first time since July according to new data. The Conference Board survey of 5,000 households pointed to renewed optimism about job creation and economic growth. US retailers have reported strong sales over the past 10 days after a slow start to the crucial festive season.\\\\n\\\\nAccording to figures also released on Tuesday, sales in shopping malls in the week to 25 December were 4.3% higher than in 2003 following a last minute rush. Wal-Mart, the largest US retailer, has said its December sales are expected to be better than previously forecast because of strong post-Christmas sales.\\\\n\\\\nIt is expecting annual sales growth of between 1% and 3% for the month. Consumer confidence figures are considered a key economic indicator because consumer spending accounts for about two thirds of all economic activity in the United States. \"The continuing economic expansion, combined with job growth, has consumers ending this year on a high note,\" said Lynn Franco, director of the Conference Board\\\\\\'s consumer research centre. \"And consumers\\\\\\' outlook suggests that the economy will continue to expand in the first half of next year.\" The overall US economy has performed strongly in recent months, prompting the Federal Reserve to increase interest rates five times since June.\\\\n\\'']"
            ]
          },
          "metadata": {
            "tags": []
          },
          "execution_count": 104
        }
      ]
    },
    {
      "cell_type": "code",
      "metadata": {
        "colab": {
          "base_uri": "https://localhost:8080/"
        },
        "id": "83148p7rXVJR",
        "outputId": "22ca29a2-f43f-493f-d97e-be1705b4f73a"
      },
      "source": [
        "#Remove new line characters by replacing them with space\n",
        "data = [re.sub(\"\\s+\", ' ', sent) for sent in data]\n",
        "\n",
        "# Remove single quotes and replace with space\n",
        "data= [re.sub(\"\\'\", ' ', sent) for sent in data]\n",
        "\n",
        "print(data[:1])"
      ],
      "execution_count": 105,
      "outputs": [
        {
          "output_type": "stream",
          "text": [
            "['b US consumer confidence up\\\\n\\\\nConsumers\\\\  confidence in the state of the US economy is at its highest for five months and they are optimistic about 2005, an influential survey says.\\\\n\\\\nThe feel-good factor among US consumers rose in December for the first time since July according to new data. The Conference Board survey of 5,000 households pointed to renewed optimism about job creation and economic growth. US retailers have reported strong sales over the past 10 days after a slow start to the crucial festive season.\\\\n\\\\nAccording to figures also released on Tuesday, sales in shopping malls in the week to 25 December were 4.3% higher than in 2003 following a last minute rush. Wal-Mart, the largest US retailer, has said its December sales are expected to be better than previously forecast because of strong post-Christmas sales.\\\\n\\\\nIt is expecting annual sales growth of between 1% and 3% for the month. Consumer confidence figures are considered a key economic indicator because consumer spending accounts for about two thirds of all economic activity in the United States. \"The continuing economic expansion, combined with job growth, has consumers ending this year on a high note,\" said Lynn Franco, director of the Conference Board\\\\ s consumer research centre. \"And consumers\\\\  outlook suggests that the economy will continue to expand in the first half of next year.\" The overall US economy has performed strongly in recent months, prompting the Federal Reserve to increase interest rates five times since June.\\\\n ']\n"
          ],
          "name": "stdout"
        }
      ]
    },
    {
      "cell_type": "code",
      "metadata": {
        "colab": {
          "base_uri": "https://localhost:8080/"
        },
        "id": "hjSAYMPpaLd5",
        "outputId": "cc3d80c3-ea04-4ca0-ffd2-48b93073ebd7"
      },
      "source": [
        "#Tokenising using Gensim\n",
        "def sent_to_words(sentences):\n",
        "  for sentence in sentences:\n",
        "    yield(gensim.utils.simple_preprocess(str(sentence), deacc=True))\n",
        "\n",
        "data_words= list(sent_to_words(data))\n",
        "print(data_words[:1])"
      ],
      "execution_count": 106,
      "outputs": [
        {
          "output_type": "stream",
          "text": [
            "[['us', 'consumer', 'confidence', 'up', 'nconsumers', 'confidence', 'in', 'the', 'state', 'of', 'the', 'us', 'economy', 'is', 'at', 'its', 'highest', 'for', 'five', 'months', 'and', 'they', 'are', 'optimistic', 'about', 'an', 'influential', 'survey', 'says', 'nthe', 'feel', 'good', 'factor', 'among', 'us', 'consumers', 'rose', 'in', 'december', 'for', 'the', 'first', 'time', 'since', 'july', 'according', 'to', 'new', 'data', 'the', 'conference', 'board', 'survey', 'of', 'households', 'pointed', 'to', 'renewed', 'optimism', 'about', 'job', 'creation', 'and', 'economic', 'growth', 'us', 'retailers', 'have', 'reported', 'strong', 'sales', 'over', 'the', 'past', 'days', 'after', 'slow', 'start', 'to', 'the', 'crucial', 'festive', 'season', 'naccording', 'to', 'figures', 'also', 'released', 'on', 'tuesday', 'sales', 'in', 'shopping', 'malls', 'in', 'the', 'week', 'to', 'december', 'were', 'higher', 'than', 'in', 'following', 'last', 'minute', 'rush', 'wal', 'mart', 'the', 'largest', 'us', 'retailer', 'has', 'said', 'its', 'december', 'sales', 'are', 'expected', 'to', 'be', 'better', 'than', 'previously', 'forecast', 'because', 'of', 'strong', 'post', 'christmas', 'sales', 'nit', 'is', 'expecting', 'annual', 'sales', 'growth', 'of', 'between', 'and', 'for', 'the', 'month', 'consumer', 'confidence', 'figures', 'are', 'considered', 'key', 'economic', 'indicator', 'because', 'consumer', 'spending', 'accounts', 'for', 'about', 'two', 'thirds', 'of', 'all', 'economic', 'activity', 'in', 'the', 'united', 'states', 'the', 'continuing', 'economic', 'expansion', 'combined', 'with', 'job', 'growth', 'has', 'consumers', 'ending', 'this', 'year', 'on', 'high', 'note', 'said', 'lynn', 'franco', 'director', 'of', 'the', 'conference', 'board', 'consumer', 'research', 'centre', 'and', 'consumers', 'outlook', 'suggests', 'that', 'the', 'economy', 'will', 'continue', 'to', 'expand', 'in', 'the', 'first', 'half', 'of', 'next', 'year', 'the', 'overall', 'us', 'economy', 'has', 'performed', 'strongly', 'in', 'recent', 'months', 'prompting', 'the', 'federal', 'reserve', 'to', 'increase', 'interest', 'rates', 'five', 'times', 'since', 'june']]\n"
          ],
          "name": "stdout"
        }
      ]
    },
    {
      "cell_type": "code",
      "metadata": {
        "id": "i7vhtBRgcpyI"
      },
      "source": [
        "#Bigram and Trigram models\n",
        "#bigram = gensim.models.Phrases(data_words, min_count=5, threshold=100)\n",
        "#trigram = gensim.models.Phrases(bigram[data_words], threshold=100)\n",
        "#bigram_mod = gensim.models.phrases.Phraser(bigram)\n",
        "#trigram_mod = gensim.models.phrases.Phraser(trigram)\n",
        "#print(trigram_mod[bigram_mod[data_words[0]]])"
      ],
      "execution_count": 107,
      "outputs": []
    },
    {
      "cell_type": "code",
      "metadata": {
        "id": "UYYodwqOhzEk"
      },
      "source": [
        "#Remove stop words\n",
        "def remove_stopwords(texts):\n",
        "    return [[word for word in simple_preprocess(str(doc)) if word not in stop_words] for doc in texts]"
      ],
      "execution_count": 108,
      "outputs": []
    },
    {
      "cell_type": "code",
      "metadata": {
        "id": "ngQIkoizjXC0"
      },
      "source": [
        "#Bigram model\n",
        "def make_bigrams(texts):\n",
        "    return [bigram_mod[doc] for doc in texts]"
      ],
      "execution_count": 109,
      "outputs": []
    },
    {
      "cell_type": "code",
      "metadata": {
        "id": "1qjjl9GFjfvE"
      },
      "source": [
        "#Trigram model\n",
        "def make_trigrams(texts):\n",
        "    return [trigram_mod[bigram_mod[doc]] for doc in texts]"
      ],
      "execution_count": 110,
      "outputs": []
    },
    {
      "cell_type": "code",
      "metadata": {
        "id": "KqjuRLbQjl8k"
      },
      "source": [
        "#Lemmatization of words\n",
        "def lemmatization(texts, allowed_postags=['NOUN', 'ADJ', 'VERB', 'ADV']):\n",
        "    \"\"\"https://spacy.io/api/annotation\"\"\"\n",
        "    texts_out = []\n",
        "    for sent in texts:\n",
        "        doc = nlp(\" \".join(sent)) \n",
        "        texts_out.append([token.lemma_ for token in doc if token.pos_ in allowed_postags])\n",
        "    return texts_out"
      ],
      "execution_count": 111,
      "outputs": []
    },
    {
      "cell_type": "code",
      "metadata": {
        "id": "_0xZs0oUjukN"
      },
      "source": [
        "#Function call for stop words\n",
        "data_words_nostops = remove_stopwords(data_words)"
      ],
      "execution_count": 112,
      "outputs": []
    },
    {
      "cell_type": "code",
      "metadata": {
        "id": "P-7RFKqHj04L"
      },
      "source": [
        "#Make bigrams\n",
        "#data_words_bigrams = make_bigrams(data_words_nostops)"
      ],
      "execution_count": 113,
      "outputs": []
    },
    {
      "cell_type": "code",
      "metadata": {
        "id": "Am7pc1-Nj4Yj"
      },
      "source": [
        "#Load SpaCy Library\n",
        "nlp = spacy.load('en', disable=['parser', 'ner'])"
      ],
      "execution_count": 114,
      "outputs": []
    },
    {
      "cell_type": "code",
      "metadata": {
        "id": "fuBbjqTbj9nW"
      },
      "source": [
        "#data_lemmatized = lemmatization(data_words_bigrams, allowed_postags=['NOUN', 'ADJ', 'VERB', 'ADV'])\n",
        "data_lemmatized = lemmatization(data_words_nostops, allowed_postags=['NOUN', 'ADJ', 'VERB', 'ADV'])"
      ],
      "execution_count": 115,
      "outputs": []
    },
    {
      "cell_type": "code",
      "metadata": {
        "colab": {
          "base_uri": "https://localhost:8080/"
        },
        "id": "rDfFcU5zkm0P",
        "outputId": "c7076beb-a202-49af-ad12-6eb95fdeb228"
      },
      "source": [
        "print(data_lemmatized[:1])"
      ],
      "execution_count": 116,
      "outputs": [
        {
          "output_type": "stream",
          "text": [
            "[['consumer', 'confidence', 'nconsumer', 'confidence', 'state', 'economy', 'high', 'month', 'optimistic', 'influential', 'survey', 'say', 'nthe', 'feel', 'good', 'factor', 'consumer', 'rise', 'first', 'time', 'accord', 'new', 'survey', 'household', 'point', 'renew', 'optimism', 'job', 'creation', 'economic', 'growth', 'retailer', 'report', 'strong', 'sale', 'past', 'day', 'slow', 'start', 'crucial', 'festive', 'season', 'naccording', 'figure', 'also', 'release', 'sale', 'shopping', 'mall', 'week', 'higher', 'follow', 'last', 'minute', 'rush', 'large', 'retailer', 'say', 'sale', 'expect', 'better', 'previously', 'forecast', 'strong', 'post', 'sale', 'nit', 'expect', 'annual', 'sale', 'growth', 'month', 'consumer', 'confidence', 'figure', 'consider', 'key', 'economic', 'indicator', 'consumer', 'spending', 'account', 'third', 'economic', 'activity', 'continue', 'economic', 'expansion', 'combine', 'job', 'growth', 'consumer', 'end', 'year', 'high', 'note', 'say', 'suggest', 'economy', 'continue', 'expand', 'first', 'next', 'year', 'overall', 'economy', 'perform', 'strongly', 'recent', 'month', 'prompt', 'federal', 'reserve', 'increase', 'interest', 'rate', 'time']]\n"
          ],
          "name": "stdout"
        }
      ]
    },
    {
      "cell_type": "code",
      "metadata": {
        "id": "iHehyFARHazJ"
      },
      "source": [
        "#Create Dictionary for input into LDA\n",
        "id2word= corpora.Dictionary(data_lemmatized)\n",
        "#Create Corpus\n",
        "texts= data_lemmatized\n",
        "#TDF\n",
        "corpus= [id2word.doc2bow(text) for text in texts]"
      ],
      "execution_count": 117,
      "outputs": []
    },
    {
      "cell_type": "code",
      "metadata": {
        "colab": {
          "base_uri": "https://localhost:8080/"
        },
        "id": "Q4kIt6fnH-zF",
        "outputId": "f1e4e2f2-8b76-449d-84ce-702d83006c87"
      },
      "source": [
        "print(corpus[:1])"
      ],
      "execution_count": 118,
      "outputs": [
        {
          "output_type": "stream",
          "text": [
            "[[(0, 1), (1, 1), (2, 1), (3, 1), (4, 1), (5, 1), (6, 1), (7, 3), (8, 1), (9, 5), (10, 2), (11, 1), (12, 1), (13, 1), (14, 4), (15, 3), (16, 1), (17, 1), (18, 1), (19, 2), (20, 1), (21, 1), (22, 1), (23, 1), (24, 2), (25, 2), (26, 1), (27, 1), (28, 1), (29, 3), (30, 2), (31, 1), (32, 1), (33, 1), (34, 1), (35, 1), (36, 1), (37, 2), (38, 1), (39, 1), (40, 1), (41, 1), (42, 1), (43, 3), (44, 1), (45, 1), (46, 1), (47, 1), (48, 1), (49, 1), (50, 1), (51, 1), (52, 1), (53, 1), (54, 1), (55, 1), (56, 1), (57, 1), (58, 1), (59, 1), (60, 1), (61, 1), (62, 1), (63, 1), (64, 1), (65, 1), (66, 2), (67, 1), (68, 1), (69, 5), (70, 3), (71, 1), (72, 1), (73, 1), (74, 1), (75, 1), (76, 1), (77, 2), (78, 1), (79, 1), (80, 2), (81, 1), (82, 2), (83, 1), (84, 2)]]\n"
          ],
          "name": "stdout"
        }
      ]
    },
    {
      "cell_type": "code",
      "metadata": {
        "colab": {
          "base_uri": "https://localhost:8080/"
        },
        "id": "K5oouzSkILL_",
        "outputId": "49055b4b-b799-4ed1-cc36-55a5d5d09668"
      },
      "source": [
        "#Printing in human readable form for the first document\n",
        "print([[(id2word[id], freq) for id, freq in cp] for cp in corpus[:1]])"
      ],
      "execution_count": 119,
      "outputs": [
        {
          "output_type": "stream",
          "text": [
            "[[('accord', 1), ('account', 1), ('activity', 1), ('also', 1), ('annual', 1), ('better', 1), ('combine', 1), ('confidence', 3), ('consider', 1), ('consumer', 5), ('continue', 2), ('creation', 1), ('crucial', 1), ('day', 1), ('economic', 4), ('economy', 3), ('end', 1), ('expand', 1), ('expansion', 1), ('expect', 2), ('factor', 1), ('federal', 1), ('feel', 1), ('festive', 1), ('figure', 2), ('first', 2), ('follow', 1), ('forecast', 1), ('good', 1), ('growth', 3), ('high', 2), ('higher', 1), ('household', 1), ('increase', 1), ('indicator', 1), ('influential', 1), ('interest', 1), ('job', 2), ('key', 1), ('large', 1), ('last', 1), ('mall', 1), ('minute', 1), ('month', 3), ('naccording', 1), ('nconsumer', 1), ('new', 1), ('next', 1), ('nit', 1), ('note', 1), ('nthe', 1), ('optimism', 1), ('optimistic', 1), ('overall', 1), ('past', 1), ('perform', 1), ('point', 1), ('post', 1), ('previously', 1), ('prompt', 1), ('rate', 1), ('recent', 1), ('release', 1), ('renew', 1), ('report', 1), ('reserve', 1), ('retailer', 2), ('rise', 1), ('rush', 1), ('sale', 5), ('say', 3), ('season', 1), ('shopping', 1), ('slow', 1), ('spending', 1), ('start', 1), ('state', 1), ('strong', 2), ('strongly', 1), ('suggest', 1), ('survey', 2), ('third', 1), ('time', 2), ('week', 1), ('year', 2)]]\n"
          ],
          "name": "stdout"
        }
      ]
    },
    {
      "cell_type": "code",
      "metadata": {
        "id": "xoJ0lPcBJBI9"
      },
      "source": [
        "#Build LDA model\n",
        "lda_model = gensim.models.ldamodel.LdaModel(corpus=corpus,\n",
        "                                           id2word=id2word,\n",
        "                                           num_topics=5, \n",
        "                                           random_state=100,\n",
        "                                           update_every=1,\n",
        "                                           chunksize=100,\n",
        "                                           passes=10,\n",
        "                                           alpha='auto',\n",
        "                                           per_word_topics=True)"
      ],
      "execution_count": 120,
      "outputs": []
    },
    {
      "cell_type": "code",
      "metadata": {
        "colab": {
          "base_uri": "https://localhost:8080/"
        },
        "id": "4K9c6VXCLlkF",
        "outputId": "73563a9e-61c1-4b2f-9b2b-ae7810726391"
      },
      "source": [
        "print(lda_model.print_topics())\n",
        "doc_lda = lda_model[corpus]"
      ],
      "execution_count": 121,
      "outputs": [
        {
          "output_type": "stream",
          "text": [
            "[(0, '0.016*\"say\" + 0.016*\"technology\" + 0.015*\"mobile\" + 0.013*\"phone\" + 0.012*\"user\" + 0.011*\"service\" + 0.010*\"firm\" + 0.010*\"computer\" + 0.010*\"music\" + 0.009*\"network\"'), (1, '0.040*\"game\" + 0.020*\"player\" + 0.018*\"play\" + 0.015*\"year\" + 0.011*\"good\" + 0.009*\"first\" + 0.009*\"time\" + 0.009*\"take\" + 0.009*\"go\" + 0.009*\"win\"'), (2, '0.023*\"say\" + 0.021*\"people\" + 0.013*\"make\" + 0.010*\"get\" + 0.010*\"work\" + 0.010*\"could\" + 0.009*\"go\" + 0.008*\"way\" + 0.008*\"would\" + 0.007*\"use\"'), (3, '0.016*\"system\" + 0.011*\"security\" + 0.011*\"test\" + 0.010*\"domain\" + 0.010*\"machine\" + 0.009*\"could\" + 0.009*\"site\" + 0.008*\"chip\" + 0.008*\"card\" + 0.007*\"computer\"'), (4, '0.045*\"say\" + 0.016*\"would\" + 0.010*\"mail\" + 0.009*\"search\" + 0.007*\"could\" + 0.006*\"tell\" + 0.006*\"make\" + 0.006*\"campaign\" + 0.006*\"also\" + 0.006*\"government\"')]\n"
          ],
          "name": "stdout"
        }
      ]
    },
    {
      "cell_type": "code",
      "metadata": {
        "colab": {
          "base_uri": "https://localhost:8080/"
        },
        "id": "5kRJ95P1L3mG",
        "outputId": "4ca54e1c-8e1a-4e48-b8cd-049b0ee87bb2"
      },
      "source": [
        "#Perplexity\n",
        "print('\\nPerplexity: ', lda_model.log_perplexity(corpus))"
      ],
      "execution_count": 122,
      "outputs": [
        {
          "output_type": "stream",
          "text": [
            "\n",
            "Perplexity:  -7.8419021401859315\n"
          ],
          "name": "stdout"
        }
      ]
    },
    {
      "cell_type": "code",
      "metadata": {
        "colab": {
          "base_uri": "https://localhost:8080/"
        },
        "id": "0yAlw9QbL9qw",
        "outputId": "10af08d3-a299-4b15-f2d4-5671bd477ed6"
      },
      "source": [
        "#Coherence score computation\n",
        "coherence_model_lda = CoherenceModel(model=lda_model, texts=data_lemmatized, dictionary=id2word, coherence='c_v')\n",
        "coherence_lda = coherence_model_lda.get_coherence()\n",
        "print('\\nCoherence Score: ', coherence_lda)"
      ],
      "execution_count": 123,
      "outputs": [
        {
          "output_type": "stream",
          "text": [
            "\n",
            "Coherence Score:  0.390331156233603\n"
          ],
          "name": "stdout"
        }
      ]
    },
    {
      "cell_type": "markdown",
      "metadata": {
        "id": "QqpbnMOoIe9N"
      },
      "source": [
        "\n",
        "> Coherence score with Gensim LDA is 0.39\n",
        "\n",
        "\n"
      ]
    },
    {
      "cell_type": "code",
      "metadata": {
        "colab": {
          "base_uri": "https://localhost:8080/"
        },
        "id": "PdVdzGyG-9T3",
        "outputId": "979219eb-540d-426b-ebe4-f699fbcc05bd"
      },
      "source": [
        "#Install dependencies for MALLET\n",
        "import os\n",
        "def install_java_jdk():\n",
        "  !apt-get install -y openjdk-8-jdk-headless -qq > /dev/null\n",
        "  os.environ[\"JAVA_HOME\"]=\"/usr/lib/jvm/java-8-openjdk-amd64\"\n",
        "  !java -version\n",
        "\n",
        "install_java_jdk()"
      ],
      "execution_count": 124,
      "outputs": [
        {
          "output_type": "stream",
          "text": [
            "openjdk version \"11.0.10\" 2021-01-19\n",
            "OpenJDK Runtime Environment (build 11.0.10+9-Ubuntu-0ubuntu1.18.04)\n",
            "OpenJDK 64-Bit Server VM (build 11.0.10+9-Ubuntu-0ubuntu1.18.04, mixed mode, sharing)\n"
          ],
          "name": "stdout"
        }
      ]
    },
    {
      "cell_type": "code",
      "metadata": {
        "colab": {
          "base_uri": "https://localhost:8080/"
        },
        "id": "YDSSDuNEBdC5",
        "outputId": "13feb0e1-618a-4bea-ab9b-2ec23f319eee"
      },
      "source": [
        "#Download MALLET package\n",
        "!wget http://mallet.cs.umass.edu/dist/mallet-2.0.8.zip\n",
        "!unzip mallet-2.0.8.zip"
      ],
      "execution_count": 125,
      "outputs": [
        {
          "output_type": "stream",
          "text": [
            "--2021-04-24 19:53:57--  http://mallet.cs.umass.edu/dist/mallet-2.0.8.zip\n",
            "Resolving mallet.cs.umass.edu (mallet.cs.umass.edu)... 128.119.246.70\n",
            "Connecting to mallet.cs.umass.edu (mallet.cs.umass.edu)|128.119.246.70|:80... connected.\n",
            "HTTP request sent, awaiting response... 200 OK\n",
            "Length: 16184794 (15M) [application/zip]\n",
            "mallet-2.0.8.zip: Operation not supported\n",
            "\n",
            "Cannot write to ‘mallet-2.0.8.zip’ (Operation not supported).\n",
            "unzip:  cannot find or open mallet-2.0.8.zip, mallet-2.0.8.zip.zip or mallet-2.0.8.zip.ZIP.\n"
          ],
          "name": "stdout"
        }
      ]
    },
    {
      "cell_type": "code",
      "metadata": {
        "colab": {
          "base_uri": "https://localhost:8080/"
        },
        "id": "Hy7qwmFoCcFD",
        "outputId": "ef31e940-1f8d-4dcf-c2be-4b23450cdf80"
      },
      "source": [
        "from google.colab import drive\n",
        "drive.mount('/content/gdrive')\n",
        "%cd gdrive"
      ],
      "execution_count": 126,
      "outputs": [
        {
          "output_type": "stream",
          "text": [
            "Drive already mounted at /content/gdrive; to attempt to forcibly remount, call drive.mount(\"/content/gdrive\", force_remount=True).\n",
            "[Errno 2] No such file or directory: 'gdrive'\n",
            "/content/gdrive\n"
          ],
          "name": "stdout"
        }
      ]
    },
    {
      "cell_type": "code",
      "metadata": {
        "id": "twUDKZpxDOof"
      },
      "source": [
        "#Set up MALLET environment\n",
        "os.environ['MALLET_HOME']='/content/mallet-2.0.8'\n",
        "mallet_path='/content/mallet-2.0.8/bin/mallet'"
      ],
      "execution_count": 127,
      "outputs": []
    },
    {
      "cell_type": "code",
      "metadata": {
        "id": "dIa1gBKPDv6R"
      },
      "source": [
        "#LDA mallet function\n",
        "ldamallet = gensim.models.wrappers.LdaMallet(mallet_path, corpus=corpus, num_topics=5, id2word=id2word)"
      ],
      "execution_count": 134,
      "outputs": []
    },
    {
      "cell_type": "code",
      "metadata": {
        "colab": {
          "base_uri": "https://localhost:8080/"
        },
        "id": "s9VqYYF8EUF1",
        "outputId": "58e18861-a4be-488a-cb0e-dd73320dfc8c"
      },
      "source": [
        "#Print the topics\n",
        "pprint(ldamallet.show_topics(formatted=False))"
      ],
      "execution_count": 135,
      "outputs": [
        {
          "output_type": "stream",
          "text": [
            "[(0,\n",
            "  [('year', 0.02232067652707119),\n",
            "   ('company', 0.012044742427815775),\n",
            "   ('market', 0.011690980762103703),\n",
            "   ('sale', 0.011573060206866345),\n",
            "   ('month', 0.011320373302786294),\n",
            "   ('rise', 0.0111856069539436),\n",
            "   ('firm', 0.009517873387015261),\n",
            "   ('expect', 0.00896196219803915),\n",
            "   ('increase', 0.008776658468380445),\n",
            "   ('price', 0.008692429500353762)]),\n",
            " (1,\n",
            "  [('government', 0.016062968057465994),\n",
            "   ('plan', 0.012165673238575578),\n",
            "   ('election', 0.010927709001986856),\n",
            "   ('people', 0.009674461256304447),\n",
            "   ('issue', 0.008253094910591471),\n",
            "   ('claim', 0.007993275255998777),\n",
            "   ('public', 0.007932141219624026),\n",
            "   ('party', 0.007183249274033318),\n",
            "   ('labour', 0.006938713128534312),\n",
            "   ('make', 0.0064496408375362985)]),\n",
            " (2,\n",
            "  [('people', 0.02046364967261378),\n",
            "   ('make', 0.010312263710806159),\n",
            "   ('service', 0.01000659598770894),\n",
            "   ('technology', 0.009636577165012308),\n",
            "   ('phone', 0.009491787190913625),\n",
            "   ('mobile', 0.009009153943918017),\n",
            "   ('user', 0.007609517527630753),\n",
            "   ('find', 0.007255586479833974),\n",
            "   ('work', 0.007078620955935585),\n",
            "   ('system', 0.006998182081436316)]),\n",
            " (3,\n",
            "  [('game', 0.02177426846261031),\n",
            "   ('time', 0.018522991175104506),\n",
            "   ('play', 0.01764979098931723),\n",
            "   ('win', 0.01185322805387831),\n",
            "   ('player', 0.011741755689735253),\n",
            "   ('back', 0.011128657686948444),\n",
            "   ('make', 0.00988388295401765),\n",
            "   ('set', 0.009679516953088713),\n",
            "   ('year', 0.009382257315373897),\n",
            "   ('start', 0.008490478402229447)]),\n",
            " (4,\n",
            "  [('year', 0.025824678683697425),\n",
            "   ('good', 0.02363614659185866),\n",
            "   ('film', 0.017687318451315107),\n",
            "   ('include', 0.01697107158489515),\n",
            "   ('show', 0.01625482471847519),\n",
            "   ('make', 0.01253432016234929),\n",
            "   ('number', 0.01151963710158768),\n",
            "   ('top', 0.009987664637300546),\n",
            "   ('music', 0.009351000756038359),\n",
            "   ('award', 0.009231626278301699)])]\n"
          ],
          "name": "stdout"
        }
      ]
    },
    {
      "cell_type": "code",
      "metadata": {
        "colab": {
          "base_uri": "https://localhost:8080/"
        },
        "id": "hRR0d_trJcs2",
        "outputId": "205d25d7-16f1-4e80-a27c-33f53f11370f"
      },
      "source": [
        "#Calculate coherence score with Mallet\n",
        "coherence_model_ldamallet = CoherenceModel(model=ldamallet, texts=data_lemmatized, dictionary=id2word, coherence='c_v')\n",
        "coherence_ldamallet = coherence_model_ldamallet.get_coherence()\n",
        "print('\\nCoherence Score: ', coherence_ldamallet)"
      ],
      "execution_count": 136,
      "outputs": [
        {
          "output_type": "stream",
          "text": [
            "\n",
            "Coherence Score:  0.5010935986602464\n"
          ],
          "name": "stdout"
        }
      ]
    },
    {
      "cell_type": "markdown",
      "metadata": {
        "id": "T4AaBmJXKSf-"
      },
      "source": [
        "Coherence score with MALLET Gensim is higher 0.501"
      ]
    }
  ]
}